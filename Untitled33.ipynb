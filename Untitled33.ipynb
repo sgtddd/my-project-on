{
 "cells": [
  {
   "cell_type": "code",
   "execution_count": 2,
   "id": "70a1bf0f-c684-446c-9bd2-b45e43f1448a",
   "metadata": {},
   "outputs": [
    {
     "name": "stdout",
     "output_type": "stream",
     "text": [
      "ataguos\n"
     ]
    }
   ],
   "source": [
    "# Write code to reverse  string\n",
    "txt=\"sougata\"[::-1]\n",
    "print(txt)\n"
   ]
  },
  {
   "cell_type": "code",
   "execution_count": 10,
   "id": "3b862e2b-d99d-4d41-8c08-5d19ed4ade45",
   "metadata": {},
   "outputs": [
    {
     "name": "stdout",
     "output_type": "stream",
     "text": [
      "9\n"
     ]
    }
   ],
   "source": [
    "# Write code to count the number of vowel in  string\n",
    "string=\"SougatagOod for fou\"\n",
    "vowels=\"aeiouAEIOU\"\n",
    "count=sum(string.count(vowel) for vowel in vowels)\n",
    "print(count)\n"
   ]
  },
  {
   "cell_type": "code",
   "execution_count": 9,
   "id": "5f242f28-5c2f-49d1-97b6-5318fc04184c",
   "metadata": {},
   "outputs": [
    {
     "ename": "SyntaxError",
     "evalue": "invalid syntax (1836581619.py, line 8)",
     "output_type": "error",
     "traceback": [
      "\u001b[0;36m  Cell \u001b[0;32mIn[9], line 8\u001b[0;36m\u001b[0m\n\u001b[0;31m    else:\u001b[0m\n\u001b[0m    ^\u001b[0m\n\u001b[0;31mSyntaxError\u001b[0m\u001b[0;31m:\u001b[0m invalid syntax\n"
     ]
    }
   ],
   "source": [
    "str_1 =input(\"enter the string to check if it is a palindrome:\")\n",
    "str_1=str_1.casefold()\n",
    "rev_str=reversed (str_1)\n",
    "if(list, str_1)==list(rev_str):\n",
    "    print(\"The string is a palindrome.\")\n",
    "    \n",
    "    \n",
    "    else:\n",
    "        \n",
    "        \n",
    "        print(\"The string is not a palindrome.\")"
   ]
  },
  {
   "cell_type": "code",
   "execution_count": 1,
   "id": "21a70440-595a-4ae7-9660-8d68b41b472a",
   "metadata": {},
   "outputs": [
    {
     "name": "stdout",
     "output_type": "stream",
     "text": [
      "The strings are anagrams.\n"
     ]
    }
   ],
   "source": [
    "#Write a code to check if two given strings are anagrams of each other\n",
    "\n",
    "\n",
    "def check(s1, s2):\n",
    "     \n",
    "    # the sorted strings are checked\n",
    "    if(sorted(s1)== sorted(s2)):\n",
    "        print(\"The strings are anagrams.\")\n",
    "    else:\n",
    "        print(\"The strings aren't anagrams.\")        \n",
    "         \n",
    "# driver code \n",
    "s1 =\"listen\"\n",
    "s2 =\"silent\"\n",
    "check(s1, s2)"
   ]
  },
  {
   "cell_type": "code",
   "execution_count": 4,
   "id": "1a160e6e-dcb5-49ff-9b24-edda692e0471",
   "metadata": {},
   "outputs": [
    {
     "name": "stdout",
     "output_type": "stream",
     "text": [
      "ab3a6c2da3b\n"
     ]
    }
   ],
   "source": [
    "# Write a code to perform basic string compression using the counts of repeated characters\n",
    "def solve(s):\n",
    "   res = \"\"\n",
    "   cnt = 1\n",
    "   for i in range(1, len(s)):\n",
    "      if s[i - 1] == s[i]:\n",
    "         cnt += 1\n",
    "      else:\n",
    "         res = res + s[i - 1]\n",
    "         if cnt > 1:\n",
    "            res += str(cnt)\n",
    "         cnt = 1\n",
    "   res = res + s[-1]\n",
    "   if cnt > 1:\n",
    "      res += str(cnt)\n",
    "   return res\n",
    "\n",
    "s = \"abbbaaaaaaccdaaab\"\n",
    "print(solve(s))"
   ]
  },
  {
   "cell_type": "code",
   "execution_count": 5,
   "id": "963b0a5b-875e-4f9c-9786-e4afe516fc7d",
   "metadata": {},
   "outputs": [
    {
     "name": "stdout",
     "output_type": "stream",
     "text": [
      "True\n"
     ]
    }
   ],
   "source": [
    "# Write a code to determine if a string has all unique characters\n",
    "def isUniqueChars(st):\n",
    " \n",
    "    # String length cannot be more than\n",
    "    # 256.\n",
    "    if len(st) > 256:\n",
    "        return False\n",
    " \n",
    "    # Initialize occurrences of all characters\n",
    "    char_set = [False] * 128\n",
    " \n",
    "    # For every character, check if it exists\n",
    "    # in char_set\n",
    "    for i in range(0, len(st)):\n",
    " \n",
    "        # Find ASCII value and check if it\n",
    "        # exists in set.\n",
    "        val = ord(st[i])\n",
    "        if char_set[val]:\n",
    "            return False\n",
    " \n",
    "        char_set[val] = True\n",
    " \n",
    "    return True\n",
    " \n",
    "# driver code\n",
    "st = \"abcd\"\n",
    "print(isUniqueChars(st))"
   ]
  },
  {
   "cell_type": "code",
   "execution_count": 7,
   "id": "d11e439a-7cd4-4f57-a8af-1fd4f6b60cfb",
   "metadata": {},
   "outputs": [
    {
     "name": "stdout",
     "output_type": "stream",
     "text": [
      "SOUGATA DUTTA\n"
     ]
    }
   ],
   "source": [
    "#write a code to convert a given string to uppercase or lowercase\n",
    "# sample string\n",
    "text = \"sougata dutta\"\n",
    "# convert all lowercase letters to uppercase using the upper() method\n",
    "text = text.upper()\n",
    "print(text)"
   ]
  },
  {
   "cell_type": "code",
   "execution_count": null,
   "id": "a1b41a2e-e1af-4683-9f00-264b6ed73415",
   "metadata": {},
   "outputs": [],
   "source": [
    "#a program to count the number of words in a string in python\n",
    "test_string = \"Tutorials point is a learning platform\"\n",
    "#original string\n",
    "print (\"The original string is : \" + test_string)\n",
    "# using split() function\n",
    "res = len(test_string.split())\n",
    "# total no of words\n",
    "print (\"The number of words in string are : \" + str(res))\n"
   ]
  },
  {
   "cell_type": "code",
   "execution_count": 1,
   "id": "9103e1b2-e836-4fd0-b359-674b9409e973",
   "metadata": {},
   "outputs": [
    {
     "name": "stdout",
     "output_type": "stream",
     "text": [
      "WHellooHellorHellolHellod\n"
     ]
    }
   ],
   "source": [
    "#Write code to concatente two string without using the + operator\n",
    "str1 = \"Hello\"\n",
    "str2 = \"World\"\n",
    "\n",
    "# Concatenate the strings using the join() method\n",
    "str3 = str1.join(str2)\n",
    "\n",
    "# Print the concatenated string\n",
    "print(str3)"
   ]
  },
  {
   "cell_type": "code",
   "execution_count": 1,
   "id": "291b5ba9-47a7-479e-9509-536795b91bf9",
   "metadata": {},
   "outputs": [
    {
     "name": "stdout",
     "output_type": "stream",
     "text": [
      "The original list is : [1, 3, 4, 6, 5, 1]\n",
      "The list after performing the remove operation is : [3, 4, 6, 5]\n"
     ]
    }
   ],
   "source": [
    "#write a code to remove all occurrences of a specific element from a list\n",
    "def remove_items(test_list, item): \n",
    "\n",
    "\t# using list comprehension to perform the task \n",
    "\tres = [i for i in test_list if i != item] \n",
    "\treturn res \n",
    "\n",
    "# driver code \n",
    "if __name__ == \"__main__\": \n",
    "\ttest_list = [1, 3, 4, 6, 5, 1] \n",
    "\t# the item which is to be removed \n",
    "\titem = 1\n",
    "\tprint(\"The original list is : \" + str(test_list)) \n",
    "\n",
    "\t# calling the function remove_items() \n",
    "\tres = remove_items(test_list, item) \n",
    "\n",
    "\t# printing result \n",
    "\tprint(\"The list after performing the remove operation is : \" + str(res)) \n",
    "\n"
   ]
  },
  {
   "cell_type": "code",
   "execution_count": 2,
   "id": "55670efd-2370-496b-b43d-90395b965804",
   "metadata": {},
   "outputs": [
    {
     "name": "stdout",
     "output_type": "stream",
     "text": [
      "Second largest element is: 45\n"
     ]
    }
   ],
   "source": [
    "\n",
    "# Python program to find largest number\n",
    "# in a list\n",
    "\n",
    "# List of numbers\n",
    "list1 = [10, 20, 20, 4, 45, 45, 45, 99, 99]\n",
    "\n",
    "# Removing duplicates from the list\n",
    "list2 = list(set(list1))\n",
    "\n",
    "# Sorting the list\n",
    "list2.sort()\n",
    "\n",
    "# Printing the second last element\n",
    "print(\"Second largest element is:\", list2[-2])\n"
   ]
  },
  {
   "cell_type": "code",
   "execution_count": 3,
   "id": "f7dfa8dd-8c76-4667-9a8a-e4c1392f9739",
   "metadata": {},
   "outputs": [
    {
     "name": "stdout",
     "output_type": "stream",
     "text": [
      "{1: 3, 2: 4, 3: 2, 4: 2, 5: 1}\n"
     ]
    }
   ],
   "source": [
    "#How to Count the Occurrences of Each Element in a List using Python\n",
    "def count_elements(lst):\n",
    "    count_dict = {}\n",
    "    for element in lst:\n",
    "        if element in count_dict:\n",
    "            count_dict[element] += 1\n",
    "        else:\n",
    "            count_dict[element] = 1\n",
    "    return count_dict\n",
    "\n",
    "# Example usage\n",
    "my_list = [1, 2, 3, 1, 2, 1, 3, 4, 5, 4, 2, 2]\n",
    "result = count_elements(my_list)\n",
    "print(result)\n",
    "\n"
   ]
  },
  {
   "cell_type": "code",
   "execution_count": 8,
   "id": "39771ba3-e7b0-4caf-bbae-dfafe0e07ae1",
   "metadata": {},
   "outputs": [
    {
     "data": {
      "text/plain": [
       "[4, 3, 2, 1]"
      ]
     },
     "execution_count": 8,
     "metadata": {},
     "output_type": "execute_result"
    }
   ],
   "source": [
    "#write a code to reverse a list inplace without using any built  in reverse function >>>x[1,2,3,4]\n",
    ">>> def reverse(seq):\n",
    "...   temp = []\n",
    "...   while seq:\n",
    "...     temp.append(seq.pop())\n",
    "...   seq[:] = temp\n",
    "... \n",
    ">>> reverse(x)\n",
    ">>> x\n",
    "[4, 3, 2, 1]\n",
    "\n",
    "\n"
   ]
  },
  {
   "cell_type": "code",
   "execution_count": 9,
   "id": "4cf1d68a-1dcd-46d8-9dec-635ff61b7fd6",
   "metadata": {},
   "outputs": [
    {
     "name": "stdout",
     "output_type": "stream",
     "text": [
      "Original list: [1, 2, 3, 2, 4, 3, 5]\n",
      "List after removing duplicates: [1, 2, 3, 4, 5]\n"
     ]
    }
   ],
   "source": [
    "#implement a code to find and remove duplicates from a list while preserving original order of elements\n",
    "from collections import OrderedDict\n",
    "\n",
    "def remove_duplicates(list1):\n",
    "    # create an OrderedDict from the list\n",
    "    # this will remove duplicates while maintaining the order\n",
    "    ordered_dict = OrderedDict.fromkeys(list1)\n",
    "\n",
    "    # convert the OrderedDict back to a list\n",
    "    list1 = list(ordered_dict.keys())\n",
    "\n",
    "    # return the list\n",
    "    return list1\n",
    "\n",
    "# driver code\n",
    "list1 = [1, 2, 3, 2, 4, 3, 5]\n",
    "\n",
    "# print the original list\n",
    "print(\"Original list:\", list1)\n",
    "\n",
    "# remove duplicates from the list\n",
    "list1 = remove_duplicates(list1)\n",
    "\n",
    "# print the list after removing duplicates\n",
    "print(\"List after removing duplicates:\", list1)"
   ]
  },
  {
   "cell_type": "code",
   "execution_count": 10,
   "id": "c7691b3e-10e6-47bd-93a3-0afe1271e79f",
   "metadata": {},
   "outputs": [
    {
     "name": "stdout",
     "output_type": "stream",
     "text": [
      "Original list : [10, 4, 5, 8, 10]\n",
      "No, List is not sorted.\n"
     ]
    }
   ],
   "source": [
    "\n",
    "\n",
    "# to check if list is sorted\n",
    "# using sort()\n",
    "\n",
    "# initializing list\n",
    "test_list = [10, 4, 5, 8, 10]\n",
    "\n",
    "# printing original list \n",
    "print (\"Original list : \" + str(test_list))\n",
    "\n",
    "# using sort() to \n",
    "# check sorted list \n",
    "flag = 0\n",
    "test_list1 = test_list[:]\n",
    "test_list1.sort()\n",
    "if (test_list1 == test_list):\n",
    "\tflag = 1\n",
    "\t\n",
    "# printing result\n",
    "if (flag) :\n",
    "\tprint (\"Yes, List is sorted.\")\n",
    "else :\n",
    "\tprint (\"No, List is not sorted.\")\n"
   ]
  },
  {
   "cell_type": "code",
   "execution_count": 11,
   "id": "8be33c32-100e-4768-ba53-184850a568ec",
   "metadata": {},
   "outputs": [
    {
     "name": "stdout",
     "output_type": "stream",
     "text": [
      "The original list 1 is : [1, 5, 6, 9, 11]\n",
      "The original list 2 is : [3, 4, 7, 8, 10]\n",
      "The combined sorted list is : [1, 3, 4, 5, 6, 7, 8, 9, 10, 11]\n"
     ]
    }
   ],
   "source": [
    " \n",
    "# to combine two sorted list \n",
    "# using sorted() \n",
    "\n",
    "# initializing lists\n",
    "test_list1 = [1, 5, 6, 9, 11]\n",
    "test_list2 = [3, 4, 7, 8, 10]\n",
    "\n",
    "# printing original lists \n",
    "print (\"The original list 1 is : \" + str(test_list1))\n",
    "print (\"The original list 2 is : \" + str(test_list2))\n",
    "\n",
    "# using sorted()\n",
    "# to combine two sorted lists\n",
    "res = sorted(test_list1 + test_list2)\n",
    "\n",
    "# printing result\n",
    "print (\"The combined sorted list is : \" + str(res))\n"
   ]
  },
  {
   "cell_type": "code",
   "execution_count": 12,
   "id": "916d073e-420d-409d-b7d6-c5350ea24410",
   "metadata": {},
   "outputs": [
    {
     "name": "stdout",
     "output_type": "stream",
     "text": [
      "[9, 11, 26, 28]\n"
     ]
    }
   ],
   "source": [
    "# Python program to illustrate the intersection\n",
    "# of two lists in most simple way\n",
    "def intersection(lst1, lst2):\n",
    "\tlst3 = [value for value in lst1 if value in lst2]\n",
    "\treturn lst3\n",
    "\n",
    "# Driver Code\n",
    "lst1 = [4, 9, 1, 17, 11, 26, 28, 54, 69]\n",
    "lst2 = [9, 9, 74, 21, 45, 11, 63, 28, 26]\n",
    "print(intersection(lst1, lst2))\n"
   ]
  },
  {
   "cell_type": "code",
   "execution_count": 14,
   "id": "898cf953-3f1e-4565-91ae-2fae299c85ba",
   "metadata": {},
   "outputs": [
    {
     "name": "stdout",
     "output_type": "stream",
     "text": [
      "The resultant merged list is \n",
      "[65, 1, 67, 8, 45, 23, 89, 90, 31]\n"
     ]
    }
   ],
   "source": [
    "#Python Merge Two Lists Without Duplicates Using Set Union\n",
    "\n",
    "list1 = [23, 45, 65, 31, 1, 89]\n",
    "list2 = [67, 89, 23, 45, 8, 90]\n",
    "\n",
    "# Converting the list into set\n",
    "set1 = set(list1)\n",
    "set2 = set(list2)\n",
    "\n",
    "# find the union of the sets and converting resultant set to list\n",
    "ans = list(set1.union(set2))\n",
    "\n",
    "print(\"The resultant merged list is \")\n",
    "print(ans)\n"
   ]
  },
  {
   "cell_type": "code",
   "execution_count": 1,
   "id": "438ab0fa-6e00-4ca8-a9b6-963087d23e35",
   "metadata": {},
   "outputs": [
    {
     "name": "stdout",
     "output_type": "stream",
     "text": [
      "Original list: [1, 2, 3, 4, 5]\n",
      "Shuffled list: [3, 5, 4, 1, 2]\n"
     ]
    }
   ],
   "source": [
    "# Write a code to shuffle a given list randomly without using any built-in shuffle functions\n",
    "import random\n",
    "\n",
    "my_list = [1, 2, 3, 4, 5]\n",
    "\n",
    "shuffled_list = sorted(my_list, key=lambda x: random.random())\n",
    "\n",
    "print(\"Original list:\", my_list)\n",
    "print(\"Shuffled list:\", shuffled_list)\n"
   ]
  },
  {
   "cell_type": "code",
   "execution_count": 2,
   "id": "44ed51b5-fcd1-4db1-b0ce-f770290322aa",
   "metadata": {},
   "outputs": [
    {
     "name": "stdout",
     "output_type": "stream",
     "text": [
      "The original tuple 1 : (4, 5)\n",
      "The original tuple 2 : (7, 8)\n",
      "The filtered tuple : [(4, 7), (4, 8), (5, 7), (5, 8), (7, 4), (7, 5), (8, 4), (8, 5)]\n"
     ]
    }
   ],
   "source": [
    "# Write a code that takes two tuples as input and returns a new tuple containing elements that are common to both input tuples\n",
    "\n",
    "# Using list comprehension\n",
    "\n",
    "# initializing tuples\n",
    "test_tuple1 = (4, 5)\n",
    "test_tuple2 = (7, 8)\n",
    "\n",
    "# printing original tuples\n",
    "print(\"The original tuple 1 : \" + str(test_tuple1))\n",
    "print(\"The original tuple 2 : \" + str(test_tuple2))\n",
    "\n",
    "# All pair combinations of 2 tuples\n",
    "# Using list comprehension\n",
    "res = [(a, b) for a in test_tuple1 for b in test_tuple2]\n",
    "res = res + [(a, b) for a in test_tuple2 for b in test_tuple1]\n",
    "\n",
    "# printing result \n",
    "print(\"The filtered tuple : \" + str(res))\n",
    "\n"
   ]
  },
  {
   "cell_type": "code",
   "execution_count": 6,
   "id": "df7cea6c-920c-481f-ae3c-cc8506a86195",
   "metadata": {},
   "outputs": [
    {
     "name": "stdout",
     "output_type": "stream",
     "text": [
      "{2, 3}\n"
     ]
    }
   ],
   "source": [
    "# Create a code that prompts the user to enter two sets of integers separated by commas. Then, print the intersection of these two sets\n",
    "s1 = {1, 2, 3}\n",
    "s2 = {2, 3}\n",
    "print(s1.intersection(s2))\n",
    "\n"
   ]
  },
  {
   "cell_type": "code",
   "execution_count": 1,
   "id": "b59a70ef-632e-4b65-a4cd-f857ca324b18",
   "metadata": {},
   "outputs": [
    {
     "name": "stdout",
     "output_type": "stream",
     "text": [
      " 1 :  5\n",
      " 5 :  2\n",
      " 3 :  3\n",
      " 4 :  3\n",
      " 2 :  4\n"
     ]
    }
   ],
   "source": [
    "# Write a code that takes a list of words as input and returns a dictionary where the keys are unique words and the values are the frequencies of those words in the input list\n",
    "\n",
    "def CountFrequency(my_list):\n",
    "\n",
    "\t# Creating an empty dictionary\n",
    "\tfreq = {}\n",
    "\tfor item in my_list:\n",
    "\t\tif (item in freq):\n",
    "\t\t\tfreq[item] += 1\n",
    "\t\telse:\n",
    "\t\t\tfreq[item] = 1\n",
    "\n",
    "\tfor key, value in freq.items():\n",
    "\t\tprint(\"% d : % d\" % (key, value))\n",
    "\n",
    "\n",
    "# Driver function\n",
    "if __name__ == \"__main__\":\n",
    "\tmy_list = [1, 1, 1, 5, 5, 3, 1, 3, 3, 1, 4, 4, 4, 2, 2, 2, 2]\n",
    "\n",
    "\tCountFrequency(my_list)\n"
   ]
  },
  {
   "cell_type": "code",
   "execution_count": 2,
   "id": "c519f379-6223-4516-be9a-badc3d6cc6a0",
   "metadata": {},
   "outputs": [
    {
     "name": "stdout",
     "output_type": "stream",
     "text": [
      "{'Geeks': 100, 'geek': 200, 'for': 325}\n"
     ]
    }
   ],
   "source": [
    "# Write a code that takes two dictionaries as input and merges them into a single dictionary. If there are common keys, the values should be added together\n",
    "\n",
    "# Python program to combine two dictionary\n",
    "# adding values for common keys\n",
    "# initializing two dictionaries\n",
    "dict1 = {'a': 12, 'for': 25, 'c': 9}\n",
    "dict2 = {'Geeks': 100, 'geek': 200, 'for': 300}\n",
    "\n",
    "\n",
    "# adding the values with common key\n",
    "for key in dict2:\n",
    "\tif key in dict1:\n",
    "\t\tdict2[key] = dict2[key] + dict1[key]\n",
    "\telse:\n",
    "\t\tpass\n",
    "\t\t\n",
    "print(dict2)\n",
    "\n"
   ]
  },
  {
   "cell_type": "code",
   "execution_count": 6,
   "id": "09759d39-f2fe-4cd0-9555-15b2960d1fb6",
   "metadata": {},
   "outputs": [
    {
     "name": "stdout",
     "output_type": "stream",
     "text": [
      "30\n",
      "N/A\n",
      "Unemployed\n"
     ]
    }
   ],
   "source": [
    "# Write a code to access a value in a nested dictionary. The function should take the dictionary and a list of keys as input, and return the corresponding value. If any of the keys do not exist in the dictionary, the \n",
    "nested_dict = {\"person\": {\"name\": \"John\", \"age\": 30, \"address\": {\"city\": \"New York\"}}}\n",
    "\n",
    "# Get the value of \"age\"\n",
    "age = get_nested_value(nested_dict, [\"person\", \"age\"])\n",
    "print(age) \n",
    "\n",
    "# Get the value of \"city\" with a default value\n",
    "city = get_nested_value(nested_dict, [\"person\", \"address\", \"country\"], \"N/A\")\n",
    "print(city) \n",
    "\n",
    "# Access a non-existent key with a default value\n",
    "nonexistent_key = get_nested_value(nested_dict, [\"person\", \"job\"], \"Unemployed\")\n",
    "print(nonexistent_key)  \n"
   ]
  },
  {
   "cell_type": "code",
   "execution_count": 7,
   "id": "e1424ce7-b777-4e07-a709-b7259a565a3c",
   "metadata": {},
   "outputs": [
    {
     "name": "stdout",
     "output_type": "stream",
     "text": [
      "{'rajnish': 9, 'ravi': 10, 'sanjeev': 15, 'suraj': 32, 'yash': 2}\n"
     ]
    }
   ],
   "source": [
    " # Write a code that takes a dictionary as input and returns a sorted version of it based on the values\n",
    " myDict = {'ravi': 10, 'rajnish': 9,\n",
    "        'sanjeev': 15, 'yash': 2, 'suraj': 32}\n",
    "\n",
    "myKeys = list(myDict.keys())\n",
    "myKeys.sort()\n",
    "sorted_dict = {i: myDict[i] for i in myKeys}\n",
    "\n",
    "print(sorted_dict)\n"
   ]
  },
  {
   "cell_type": "code",
   "execution_count": 8,
   "id": "9ad46829-f136-474c-9030-c4baf881c27c",
   "metadata": {},
   "outputs": [
    {
     "name": "stdout",
     "output_type": "stream",
     "text": [
      "Original dictionary is : \n",
      "{'A': 67, 'B': 23, 'C': 45, 'D': 56, 'E': 12, 'F': 69, 'G': 67, 'H': 23}\n",
      "\n",
      "Dictionary after swapping is : \n",
      "keys: values\n",
      "67  :  G\n",
      "23  :  H\n",
      "45  :  C\n",
      "56  :  D\n",
      "12  :  E\n",
      "69  :  F\n"
     ]
    }
   ],
   "source": [
    "# Write a code that inverts a dictionary, swapping keys and values. Ensure that the inverted dictionary \n",
    "# Python3 code to demonstrate \n",
    "# swap of key and value \n",
    "\n",
    "# initializing dictionary \n",
    "old_dict = {'A': 67, 'B': 23, 'C': 45, 'D': 56, 'E': 12, 'F': 69, 'G': 67, 'H': 23}\n",
    "\n",
    "new_dict = dict([(value, key) for key, value in old_dict.items()])\n",
    "\n",
    "# Printing original dictionary \n",
    "print (\"Original dictionary is : \")\n",
    "print(old_dict) \n",
    "\n",
    "print()\n",
    "\n",
    "# Printing new dictionary after swapping keys and values\n",
    "print (\"Dictionary after swapping is : \") \n",
    "print(\"keys: values\")\n",
    "for i in new_dict:\n",
    "\tprint(i, \" : \", new_dict[i])\n"
   ]
  },
  {
   "cell_type": "code",
   "execution_count": null,
   "id": "cc526571-0844-4b48-8c64-ab96f25b77be",
   "metadata": {},
   "outputs": [],
   "source": []
  }
 ],
 "metadata": {
  "kernelspec": {
   "display_name": "Python 3 (ipykernel)",
   "language": "python",
   "name": "python3"
  },
  "language_info": {
   "codemirror_mode": {
    "name": "ipython",
    "version": 3
   },
   "file_extension": ".py",
   "mimetype": "text/x-python",
   "name": "python",
   "nbconvert_exporter": "python",
   "pygments_lexer": "ipython3",
   "version": "3.10.8"
  }
 },
 "nbformat": 4,
 "nbformat_minor": 5
}
